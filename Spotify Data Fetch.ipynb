{
 "cells": [
  {
   "cell_type": "markdown",
   "metadata": {},
   "source": [
    "# Collecting Data from the Spotify Web API using Spotipy\n",
    "### About the Spotipy Library:\n",
    "From the [official Spotipy docs](https://spotipy.readthedocs.io/en/latest/):\n",
    "\n",
    "\"Spotipy is a lightweight Python library for the Spotify Web API. With Spotipy you get full access to all of the music data provided by the Spotify platform.\"\n",
    "\n",
    "### About using the Spotify Web API:\n",
    "Spotify offers a number of [API endpoints](https://developer.spotify.com/documentation/web-api/reference/) to access the Spotify data. In this notebook, I used the following:\n",
    "\n",
    "- [search endpoint](https://developer.spotify.com/documentation/web-api/reference/search/search/) to get the track IDs\n",
    "- [audio features endpoint](https://developer.spotify.com/documentation/web-api/reference/tracks/get-several-audio-features/) to get the corresponding audio features.<br>\n",
    "The data was collected on several days during the months of April, May and August 2018.\n",
    "\n",
    "### Goal of this notebook:\n",
    "The goal is to show how to collect audio features data for tracks from the [official Spotify Web API](https://developer.spotify.com/documentation/web-api/) in order to use it for further analysis/ machine learning which will be part of another notebook.\n",
    "\n",
    "### 1. Setting Up\n",
    "The below code is sufficient to set up Spotipy for querying the API endpoint. A more detailed explanation of the whole procedure is available in the [official docs](https://spotipy.readthedocs.io/en/latest/#installation)."
   ]
  },
  {
   "cell_type": "code",
   "execution_count": 1,
   "metadata": {},
   "outputs": [],
   "source": [
    "import spotipy\n",
    "from spotipy.oauth2 import SpotifyClientCredentials\n",
    "\n",
    "cid =\"621685b7e9054759ac91dca2a8a0a5f8\" \n",
    "secret = \"3c593b4b86814535a0014c0e6b8ff0dc\"\n",
    "\n",
    "client_credentials_manager = SpotifyClientCredentials(client_id=cid, client_secret=secret)\n",
    "sp = spotipy.Spotify(client_credentials_manager=client_credentials_manager)"
   ]
  },
  {
   "cell_type": "markdown",
   "metadata": {},
   "source": [
    "## 2. Get the Track ID Data\n",
    "The data collection is divided into 2 parts: the track IDs and the audio features. In this step, I'm going to collect 10.000 track IDs from the Spotify API.\n",
    "\n",
    "The [search endpoint](https://developer.spotify.com/documentation/web-api/reference/search/search/) used in this step had a few limitations:\n",
    "\n",
    "- limit: a maximum of 50 results can be returned per query\n",
    "- offset: this is the index of the first result to return, so if you want to get the results with the index 50-100 you will need to set the offset to 50 etc. <br>\n",
    "Spotify cut down the maximum offset to 10.000.\n",
    "\n",
    "My solution: using a nested for loop, I increased the offset by 50 in the outer loop until the maxium limit/ offset was reached. The inner for loop did the actual querying and appending the returned results to appropriate lists which I used afterwards to create my dataframe."
   ]
  },
  {
   "cell_type": "code",
   "execution_count": 2,
   "metadata": {},
   "outputs": [
    {
     "name": "stdout",
     "output_type": "stream",
     "text": [
      "Time to run this code (in seconds): 200.35795813461579\n"
     ]
    }
   ],
   "source": [
    "# timeit library to measure the time needed to run this code\n",
    "import timeit\n",
    "start = timeit.default_timer()\n",
    "\n",
    "# create empty lists where the results are going to be stored\n",
    "artist_name = []\n",
    "track_name = []\n",
    "popularity = []\n",
    "track_id = []\n",
    "\n",
    "for i in range(0,10000,50):\n",
    "    track_results = sp.search(q='year:2018', type='track', limit=50,offset=i)\n",
    "    for i, t in enumerate(track_results['tracks']['items']):\n",
    "        artist_name.append(t['artists'][0]['name'])\n",
    "        track_name.append(t['name'])\n",
    "        track_id.append(t['id'])\n",
    "        popularity.append(t['popularity'])\n",
    "      \n",
    "\n",
    "stop = timeit.default_timer()\n",
    "print ('Time to run this code (in seconds):', stop - start)"
   ]
  },
  {
   "cell_type": "markdown",
   "metadata": {},
   "source": [
    "## 3. Data Preparation and EDA\n",
    "In the next few cells, I'm going to do some exploratory data analysis as well as data preparation of the newly gained data.\n",
    "\n",
    "A quick check for the track_id list:"
   ]
  },
  {
   "cell_type": "code",
   "execution_count": 3,
   "metadata": {},
   "outputs": [
    {
     "name": "stdout",
     "output_type": "stream",
     "text": [
      "number of elements in the track_id list: 10000\n"
     ]
    }
   ],
   "source": [
    "print('number of elements in the track_id list:', len(track_id))"
   ]
  },
  {
   "cell_type": "markdown",
   "metadata": {},
   "source": [
    "Ahh, looks good. Let's get it into a dataframe. "
   ]
  },
  {
   "cell_type": "code",
   "execution_count": 4,
   "metadata": {},
   "outputs": [
    {
     "name": "stdout",
     "output_type": "stream",
     "text": [
      "(10000, 4)\n"
     ]
    },
    {
     "data": {
      "text/html": [
       "<div>\n",
       "<style scoped>\n",
       "    .dataframe tbody tr th:only-of-type {\n",
       "        vertical-align: middle;\n",
       "    }\n",
       "\n",
       "    .dataframe tbody tr th {\n",
       "        vertical-align: top;\n",
       "    }\n",
       "\n",
       "    .dataframe thead th {\n",
       "        text-align: right;\n",
       "    }\n",
       "</style>\n",
       "<table border=\"1\" class=\"dataframe\">\n",
       "  <thead>\n",
       "    <tr style=\"text-align: right;\">\n",
       "      <th></th>\n",
       "      <th>artist_name</th>\n",
       "      <th>track_name</th>\n",
       "      <th>track_id</th>\n",
       "      <th>popularity</th>\n",
       "    </tr>\n",
       "  </thead>\n",
       "  <tbody>\n",
       "    <tr>\n",
       "      <th>0</th>\n",
       "      <td>Travis Scott</td>\n",
       "      <td>SICKO MODE</td>\n",
       "      <td>2xLMifQCjDGFmkHkpNLD9h</td>\n",
       "      <td>96</td>\n",
       "    </tr>\n",
       "    <tr>\n",
       "      <th>1</th>\n",
       "      <td>Ariana Grande</td>\n",
       "      <td>thank u, next</td>\n",
       "      <td>2rPE9A1vEgShuZxxzR2tZH</td>\n",
       "      <td>98</td>\n",
       "    </tr>\n",
       "    <tr>\n",
       "      <th>2</th>\n",
       "      <td>Sheck Wes</td>\n",
       "      <td>Mo Bamba</td>\n",
       "      <td>1xzBco0xcoJEDXktl7Jxrr</td>\n",
       "      <td>93</td>\n",
       "    </tr>\n",
       "    <tr>\n",
       "      <th>3</th>\n",
       "      <td>Kodak Black</td>\n",
       "      <td>ZEZE (feat. Travis Scott &amp; Offset)</td>\n",
       "      <td>7l3E7lcozEodtVsSTCkcaA</td>\n",
       "      <td>95</td>\n",
       "    </tr>\n",
       "    <tr>\n",
       "      <th>4</th>\n",
       "      <td>Juice WRLD</td>\n",
       "      <td>Lucid Dreams</td>\n",
       "      <td>0s3nnoMeVWz3989MkNQiRf</td>\n",
       "      <td>94</td>\n",
       "    </tr>\n",
       "  </tbody>\n",
       "</table>\n",
       "</div>"
      ],
      "text/plain": [
       "     artist_name                          track_name                track_id  \\\n",
       "0   Travis Scott                          SICKO MODE  2xLMifQCjDGFmkHkpNLD9h   \n",
       "1  Ariana Grande                       thank u, next  2rPE9A1vEgShuZxxzR2tZH   \n",
       "2      Sheck Wes                            Mo Bamba  1xzBco0xcoJEDXktl7Jxrr   \n",
       "3    Kodak Black  ZEZE (feat. Travis Scott & Offset)  7l3E7lcozEodtVsSTCkcaA   \n",
       "4     Juice WRLD                        Lucid Dreams  0s3nnoMeVWz3989MkNQiRf   \n",
       "\n",
       "   popularity  \n",
       "0          96  \n",
       "1          98  \n",
       "2          93  \n",
       "3          95  \n",
       "4          94  "
      ]
     },
     "execution_count": 4,
     "metadata": {},
     "output_type": "execute_result"
    }
   ],
   "source": [
    "import pandas as pd\n",
    "\n",
    "df_tracks = pd.DataFrame({'artist_name':artist_name,'track_name':track_name,'track_id':track_id,'popularity':popularity})\n",
    "print(df_tracks.shape)\n",
    "df_tracks.head()"
   ]
  },
  {
   "cell_type": "code",
   "execution_count": 5,
   "metadata": {},
   "outputs": [
    {
     "name": "stdout",
     "output_type": "stream",
     "text": [
      "<class 'pandas.core.frame.DataFrame'>\n",
      "RangeIndex: 10000 entries, 0 to 9999\n",
      "Data columns (total 4 columns):\n",
      "artist_name    10000 non-null object\n",
      "track_name     10000 non-null object\n",
      "track_id       10000 non-null object\n",
      "popularity     10000 non-null int64\n",
      "dtypes: int64(1), object(3)\n",
      "memory usage: 312.6+ KB\n"
     ]
    }
   ],
   "source": [
    "df_tracks.info()"
   ]
  },
  {
   "cell_type": "markdown",
   "metadata": {},
   "source": [
    "** Sometimes, the same track is returned under different track IDs i.e., as asingle track and from album.**\n",
    "\n",
    "This needs to be checked for and corrected if needed."
   ]
  },
  {
   "cell_type": "code",
   "execution_count": 6,
   "metadata": {},
   "outputs": [
    {
     "data": {
      "text/plain": [
       "2297"
      ]
     },
     "execution_count": 6,
     "metadata": {},
     "output_type": "execute_result"
    }
   ],
   "source": [
    "# group the entries by artist_name and track_name and check for duplicates\n",
    "\n",
    "grouped = df_tracks.groupby(['artist_name','track_name'], as_index=True).size()\n",
    "grouped[grouped > 1].count()"
   ]
  },
  {
   "cell_type": "markdown",
   "metadata": {},
   "source": [
    "There are 2297 duplicate entries which will be dropped in the next cell:"
   ]
  },
  {
   "cell_type": "code",
   "execution_count": 7,
   "metadata": {},
   "outputs": [],
   "source": [
    "df_tracks.drop_duplicates(subset=['artist_name','track_name'], inplace=True)"
   ]
  },
  {
   "cell_type": "code",
   "execution_count": 8,
   "metadata": {},
   "outputs": [
    {
     "data": {
      "text/plain": [
       "0"
      ]
     },
     "execution_count": 8,
     "metadata": {},
     "output_type": "execute_result"
    }
   ],
   "source": [
    "# doing the same grouping as before to verify the solution\n",
    "grouped_after_dropping = df_tracks.groupby(['artist_name','track_name'], as_index=True).size()\n",
    "grouped_after_dropping[grouped_after_dropping > 1].count()"
   ]
  },
  {
   "cell_type": "code",
   "execution_count": 9,
   "metadata": {},
   "outputs": [
    {
     "data": {
      "text/plain": [
       "artist_name    0\n",
       "track_name     0\n",
       "track_id       0\n",
       "popularity     0\n",
       "dtype: int64"
      ]
     },
     "execution_count": 9,
     "metadata": {},
     "output_type": "execute_result"
    }
   ],
   "source": [
    "# One more way of checking for dupliates\n",
    "df_tracks[df_tracks.duplicated(subset=['artist_name','track_name'],keep=False)].count()"
   ]
  },
  {
   "cell_type": "code",
   "execution_count": 10,
   "metadata": {},
   "outputs": [
    {
     "data": {
      "text/plain": [
       "(6901, 4)"
      ]
     },
     "execution_count": 10,
     "metadata": {},
     "output_type": "execute_result"
    }
   ],
   "source": [
    "df_tracks.shape"
   ]
  },
  {
   "cell_type": "markdown",
   "metadata": {},
   "source": [
    "## 4: Get the Audio Features Data\n",
    "With the [audio features endpoint](https://developer.spotify.com/documentation/web-api/reference/tracks/get-several-audio-features/) I will now get the audio features data for my 6901 track IDs.\n",
    "\n",
    "The limitation for this endpoint is that a maximum of 100 track IDs can be submitted per query.\n",
    "\n",
    "Again, I used a nested for loop. This time the outer loop was pulling track IDs in batches of size 100 and the inner for loop was doing the query and appending the results to the rows list.\n",
    "\n",
    "Additionaly, I had to implement a check when a track ID didn't return any audio features (i.e. None was returned) as this was causing issues."
   ]
  },
  {
   "cell_type": "code",
   "execution_count": 11,
   "metadata": {},
   "outputs": [
    {
     "name": "stdout",
     "output_type": "stream",
     "text": [
      "Number of tracks where no audio features were available: 94\n",
      "Time to run this code (in seconds): 21.542112133137834\n"
     ]
    }
   ],
   "source": [
    "# again measuring the time\n",
    "start = timeit.default_timer()\n",
    "\n",
    "# empty list, batchsize and the counter for None results\n",
    "rows = []\n",
    "batchsize = 100\n",
    "None_counter = 0\n",
    "\n",
    "for i in range(0,len(df_tracks['track_id']),batchsize):\n",
    "    batch = df_tracks['track_id'][i:i+batchsize]\n",
    "    feature_results = sp.audio_features(batch)\n",
    "    for i, t in enumerate(feature_results):\n",
    "        if t == None:\n",
    "            None_counter = None_counter + 1\n",
    "        else:\n",
    "            rows.append(t)\n",
    "            \n",
    "print('Number of tracks where no audio features were available:',None_counter)\n",
    "\n",
    "stop = timeit.default_timer()\n",
    "print ('Time to run this code (in seconds):',stop - start)"
   ]
  },
  {
   "cell_type": "markdown",
   "metadata": {},
   "source": [
    "## 5. Data Preparation\n",
    "Same as with the first dataset, checking how the rows list looks like:"
   ]
  },
  {
   "cell_type": "code",
   "execution_count": 12,
   "metadata": {},
   "outputs": [
    {
     "name": "stdout",
     "output_type": "stream",
     "text": [
      "number of elements in the track_id list: 6807\n"
     ]
    }
   ],
   "source": [
    "print('number of elements in the track_id list:', len(rows))"
   ]
  },
  {
   "cell_type": "code",
   "execution_count": 13,
   "metadata": {},
   "outputs": [
    {
     "name": "stdout",
     "output_type": "stream",
     "text": [
      "Shape of the dataset: (6807, 18)\n"
     ]
    },
    {
     "data": {
      "text/html": [
       "<div>\n",
       "<style scoped>\n",
       "    .dataframe tbody tr th:only-of-type {\n",
       "        vertical-align: middle;\n",
       "    }\n",
       "\n",
       "    .dataframe tbody tr th {\n",
       "        vertical-align: top;\n",
       "    }\n",
       "\n",
       "    .dataframe thead th {\n",
       "        text-align: right;\n",
       "    }\n",
       "</style>\n",
       "<table border=\"1\" class=\"dataframe\">\n",
       "  <thead>\n",
       "    <tr style=\"text-align: right;\">\n",
       "      <th></th>\n",
       "      <th>acousticness</th>\n",
       "      <th>analysis_url</th>\n",
       "      <th>danceability</th>\n",
       "      <th>duration_ms</th>\n",
       "      <th>energy</th>\n",
       "      <th>id</th>\n",
       "      <th>instrumentalness</th>\n",
       "      <th>key</th>\n",
       "      <th>liveness</th>\n",
       "      <th>loudness</th>\n",
       "      <th>mode</th>\n",
       "      <th>speechiness</th>\n",
       "      <th>tempo</th>\n",
       "      <th>time_signature</th>\n",
       "      <th>track_href</th>\n",
       "      <th>type</th>\n",
       "      <th>uri</th>\n",
       "      <th>valence</th>\n",
       "    </tr>\n",
       "  </thead>\n",
       "  <tbody>\n",
       "    <tr>\n",
       "      <th>0</th>\n",
       "      <td>0.00513</td>\n",
       "      <td>https://api.spotify.com/v1/audio-analysis/2xLM...</td>\n",
       "      <td>0.834</td>\n",
       "      <td>312820</td>\n",
       "      <td>0.730</td>\n",
       "      <td>2xLMifQCjDGFmkHkpNLD9h</td>\n",
       "      <td>0.00000</td>\n",
       "      <td>8</td>\n",
       "      <td>0.1240</td>\n",
       "      <td>-3.714</td>\n",
       "      <td>1</td>\n",
       "      <td>0.2220</td>\n",
       "      <td>155.008</td>\n",
       "      <td>4</td>\n",
       "      <td>https://api.spotify.com/v1/tracks/2xLMifQCjDGF...</td>\n",
       "      <td>audio_features</td>\n",
       "      <td>spotify:track:2xLMifQCjDGFmkHkpNLD9h</td>\n",
       "      <td>0.446</td>\n",
       "    </tr>\n",
       "    <tr>\n",
       "      <th>1</th>\n",
       "      <td>0.28000</td>\n",
       "      <td>https://api.spotify.com/v1/audio-analysis/2rPE...</td>\n",
       "      <td>0.724</td>\n",
       "      <td>207333</td>\n",
       "      <td>0.647</td>\n",
       "      <td>2rPE9A1vEgShuZxxzR2tZH</td>\n",
       "      <td>0.00000</td>\n",
       "      <td>1</td>\n",
       "      <td>0.1020</td>\n",
       "      <td>-5.642</td>\n",
       "      <td>1</td>\n",
       "      <td>0.0658</td>\n",
       "      <td>106.960</td>\n",
       "      <td>4</td>\n",
       "      <td>https://api.spotify.com/v1/tracks/2rPE9A1vEgSh...</td>\n",
       "      <td>audio_features</td>\n",
       "      <td>spotify:track:2rPE9A1vEgShuZxxzR2tZH</td>\n",
       "      <td>0.435</td>\n",
       "    </tr>\n",
       "    <tr>\n",
       "      <th>2</th>\n",
       "      <td>0.19400</td>\n",
       "      <td>https://api.spotify.com/v1/audio-analysis/1xzB...</td>\n",
       "      <td>0.729</td>\n",
       "      <td>183907</td>\n",
       "      <td>0.625</td>\n",
       "      <td>1xzBco0xcoJEDXktl7Jxrr</td>\n",
       "      <td>0.00986</td>\n",
       "      <td>4</td>\n",
       "      <td>0.2480</td>\n",
       "      <td>-5.266</td>\n",
       "      <td>1</td>\n",
       "      <td>0.0315</td>\n",
       "      <td>146.034</td>\n",
       "      <td>4</td>\n",
       "      <td>https://api.spotify.com/v1/tracks/1xzBco0xcoJE...</td>\n",
       "      <td>audio_features</td>\n",
       "      <td>spotify:track:1xzBco0xcoJEDXktl7Jxrr</td>\n",
       "      <td>0.261</td>\n",
       "    </tr>\n",
       "    <tr>\n",
       "      <th>3</th>\n",
       "      <td>0.07100</td>\n",
       "      <td>https://api.spotify.com/v1/audio-analysis/7l3E...</td>\n",
       "      <td>0.826</td>\n",
       "      <td>225199</td>\n",
       "      <td>0.615</td>\n",
       "      <td>7l3E7lcozEodtVsSTCkcaA</td>\n",
       "      <td>0.00000</td>\n",
       "      <td>8</td>\n",
       "      <td>0.0965</td>\n",
       "      <td>-7.979</td>\n",
       "      <td>0</td>\n",
       "      <td>0.2190</td>\n",
       "      <td>98.056</td>\n",
       "      <td>4</td>\n",
       "      <td>https://api.spotify.com/v1/tracks/7l3E7lcozEod...</td>\n",
       "      <td>audio_features</td>\n",
       "      <td>spotify:track:7l3E7lcozEodtVsSTCkcaA</td>\n",
       "      <td>0.543</td>\n",
       "    </tr>\n",
       "    <tr>\n",
       "      <th>4</th>\n",
       "      <td>0.34900</td>\n",
       "      <td>https://api.spotify.com/v1/audio-analysis/0s3n...</td>\n",
       "      <td>0.511</td>\n",
       "      <td>239836</td>\n",
       "      <td>0.566</td>\n",
       "      <td>0s3nnoMeVWz3989MkNQiRf</td>\n",
       "      <td>0.00000</td>\n",
       "      <td>6</td>\n",
       "      <td>0.3400</td>\n",
       "      <td>-7.230</td>\n",
       "      <td>0</td>\n",
       "      <td>0.2000</td>\n",
       "      <td>83.903</td>\n",
       "      <td>4</td>\n",
       "      <td>https://api.spotify.com/v1/tracks/0s3nnoMeVWz3...</td>\n",
       "      <td>audio_features</td>\n",
       "      <td>spotify:track:0s3nnoMeVWz3989MkNQiRf</td>\n",
       "      <td>0.218</td>\n",
       "    </tr>\n",
       "  </tbody>\n",
       "</table>\n",
       "</div>"
      ],
      "text/plain": [
       "   acousticness                                       analysis_url  \\\n",
       "0       0.00513  https://api.spotify.com/v1/audio-analysis/2xLM...   \n",
       "1       0.28000  https://api.spotify.com/v1/audio-analysis/2rPE...   \n",
       "2       0.19400  https://api.spotify.com/v1/audio-analysis/1xzB...   \n",
       "3       0.07100  https://api.spotify.com/v1/audio-analysis/7l3E...   \n",
       "4       0.34900  https://api.spotify.com/v1/audio-analysis/0s3n...   \n",
       "\n",
       "   danceability  duration_ms  energy                      id  \\\n",
       "0         0.834       312820   0.730  2xLMifQCjDGFmkHkpNLD9h   \n",
       "1         0.724       207333   0.647  2rPE9A1vEgShuZxxzR2tZH   \n",
       "2         0.729       183907   0.625  1xzBco0xcoJEDXktl7Jxrr   \n",
       "3         0.826       225199   0.615  7l3E7lcozEodtVsSTCkcaA   \n",
       "4         0.511       239836   0.566  0s3nnoMeVWz3989MkNQiRf   \n",
       "\n",
       "   instrumentalness  key  liveness  loudness  mode  speechiness    tempo  \\\n",
       "0           0.00000    8    0.1240    -3.714     1       0.2220  155.008   \n",
       "1           0.00000    1    0.1020    -5.642     1       0.0658  106.960   \n",
       "2           0.00986    4    0.2480    -5.266     1       0.0315  146.034   \n",
       "3           0.00000    8    0.0965    -7.979     0       0.2190   98.056   \n",
       "4           0.00000    6    0.3400    -7.230     0       0.2000   83.903   \n",
       "\n",
       "   time_signature                                         track_href  \\\n",
       "0               4  https://api.spotify.com/v1/tracks/2xLMifQCjDGF...   \n",
       "1               4  https://api.spotify.com/v1/tracks/2rPE9A1vEgSh...   \n",
       "2               4  https://api.spotify.com/v1/tracks/1xzBco0xcoJE...   \n",
       "3               4  https://api.spotify.com/v1/tracks/7l3E7lcozEod...   \n",
       "4               4  https://api.spotify.com/v1/tracks/0s3nnoMeVWz3...   \n",
       "\n",
       "             type                                   uri  valence  \n",
       "0  audio_features  spotify:track:2xLMifQCjDGFmkHkpNLD9h    0.446  \n",
       "1  audio_features  spotify:track:2rPE9A1vEgShuZxxzR2tZH    0.435  \n",
       "2  audio_features  spotify:track:1xzBco0xcoJEDXktl7Jxrr    0.261  \n",
       "3  audio_features  spotify:track:7l3E7lcozEodtVsSTCkcaA    0.543  \n",
       "4  audio_features  spotify:track:0s3nnoMeVWz3989MkNQiRf    0.218  "
      ]
     },
     "execution_count": 13,
     "metadata": {},
     "output_type": "execute_result"
    }
   ],
   "source": [
    "# Load it into dataframe\n",
    "df_audio_features = pd.DataFrame.from_dict(rows,orient='columns')\n",
    "print(\"Shape of the dataset:\", df_audio_features.shape)\n",
    "df_audio_features.head()"
   ]
  },
  {
   "cell_type": "code",
   "execution_count": 14,
   "metadata": {},
   "outputs": [
    {
     "name": "stdout",
     "output_type": "stream",
     "text": [
      "<class 'pandas.core.frame.DataFrame'>\n",
      "RangeIndex: 6807 entries, 0 to 6806\n",
      "Data columns (total 18 columns):\n",
      "acousticness        6807 non-null float64\n",
      "analysis_url        6807 non-null object\n",
      "danceability        6807 non-null float64\n",
      "duration_ms         6807 non-null int64\n",
      "energy              6807 non-null float64\n",
      "id                  6807 non-null object\n",
      "instrumentalness    6807 non-null float64\n",
      "key                 6807 non-null int64\n",
      "liveness            6807 non-null float64\n",
      "loudness            6807 non-null float64\n",
      "mode                6807 non-null int64\n",
      "speechiness         6807 non-null float64\n",
      "tempo               6807 non-null float64\n",
      "time_signature      6807 non-null int64\n",
      "track_href          6807 non-null object\n",
      "type                6807 non-null object\n",
      "uri                 6807 non-null object\n",
      "valence             6807 non-null float64\n",
      "dtypes: float64(9), int64(4), object(5)\n",
      "memory usage: 957.3+ KB\n"
     ]
    }
   ],
   "source": [
    "df_audio_features.info()"
   ]
  },
  {
   "cell_type": "markdown",
   "metadata": {},
   "source": [
    "Some columns are not needed for the analysis so I will drop them.\n",
    "\n",
    "Also the ID column will be renamed to track_id so that it matches the column name from the first dataframe."
   ]
  },
  {
   "cell_type": "code",
   "execution_count": 15,
   "metadata": {},
   "outputs": [
    {
     "data": {
      "text/plain": [
       "(6807, 14)"
      ]
     },
     "execution_count": 15,
     "metadata": {},
     "output_type": "execute_result"
    }
   ],
   "source": [
    "columns_to_drop = ['analysis_url','track_href','type','uri']\n",
    "df_audio_features.drop(columns_to_drop, axis=1,inplace=True)\n",
    "\n",
    "df_audio_features.rename(columns={'id': 'track_id'}, inplace=True)\n",
    "\n",
    "df_audio_features.shape"
   ]
  },
  {
   "cell_type": "code",
   "execution_count": 16,
   "metadata": {},
   "outputs": [
    {
     "name": "stdout",
     "output_type": "stream",
     "text": [
      "Shape of the dataset: (6807, 14)\n"
     ]
    },
    {
     "data": {
      "text/html": [
       "<div>\n",
       "<style scoped>\n",
       "    .dataframe tbody tr th:only-of-type {\n",
       "        vertical-align: middle;\n",
       "    }\n",
       "\n",
       "    .dataframe tbody tr th {\n",
       "        vertical-align: top;\n",
       "    }\n",
       "\n",
       "    .dataframe thead th {\n",
       "        text-align: right;\n",
       "    }\n",
       "</style>\n",
       "<table border=\"1\" class=\"dataframe\">\n",
       "  <thead>\n",
       "    <tr style=\"text-align: right;\">\n",
       "      <th></th>\n",
       "      <th>artist_name</th>\n",
       "      <th>track_name</th>\n",
       "      <th>track_id</th>\n",
       "      <th>popularity</th>\n",
       "      <th>acousticness</th>\n",
       "      <th>danceability</th>\n",
       "      <th>duration_ms</th>\n",
       "      <th>energy</th>\n",
       "      <th>instrumentalness</th>\n",
       "      <th>key</th>\n",
       "      <th>liveness</th>\n",
       "      <th>loudness</th>\n",
       "      <th>mode</th>\n",
       "      <th>speechiness</th>\n",
       "      <th>tempo</th>\n",
       "      <th>time_signature</th>\n",
       "      <th>valence</th>\n",
       "    </tr>\n",
       "  </thead>\n",
       "  <tbody>\n",
       "    <tr>\n",
       "      <th>0</th>\n",
       "      <td>Travis Scott</td>\n",
       "      <td>SICKO MODE</td>\n",
       "      <td>2xLMifQCjDGFmkHkpNLD9h</td>\n",
       "      <td>96</td>\n",
       "      <td>0.00513</td>\n",
       "      <td>0.834</td>\n",
       "      <td>312820</td>\n",
       "      <td>0.730</td>\n",
       "      <td>0.00000</td>\n",
       "      <td>8</td>\n",
       "      <td>0.1240</td>\n",
       "      <td>-3.714</td>\n",
       "      <td>1</td>\n",
       "      <td>0.2220</td>\n",
       "      <td>155.008</td>\n",
       "      <td>4</td>\n",
       "      <td>0.446</td>\n",
       "    </tr>\n",
       "    <tr>\n",
       "      <th>1</th>\n",
       "      <td>Ariana Grande</td>\n",
       "      <td>thank u, next</td>\n",
       "      <td>2rPE9A1vEgShuZxxzR2tZH</td>\n",
       "      <td>98</td>\n",
       "      <td>0.28000</td>\n",
       "      <td>0.724</td>\n",
       "      <td>207333</td>\n",
       "      <td>0.647</td>\n",
       "      <td>0.00000</td>\n",
       "      <td>1</td>\n",
       "      <td>0.1020</td>\n",
       "      <td>-5.642</td>\n",
       "      <td>1</td>\n",
       "      <td>0.0658</td>\n",
       "      <td>106.960</td>\n",
       "      <td>4</td>\n",
       "      <td>0.435</td>\n",
       "    </tr>\n",
       "    <tr>\n",
       "      <th>2</th>\n",
       "      <td>Sheck Wes</td>\n",
       "      <td>Mo Bamba</td>\n",
       "      <td>1xzBco0xcoJEDXktl7Jxrr</td>\n",
       "      <td>93</td>\n",
       "      <td>0.19400</td>\n",
       "      <td>0.729</td>\n",
       "      <td>183907</td>\n",
       "      <td>0.625</td>\n",
       "      <td>0.00986</td>\n",
       "      <td>4</td>\n",
       "      <td>0.2480</td>\n",
       "      <td>-5.266</td>\n",
       "      <td>1</td>\n",
       "      <td>0.0315</td>\n",
       "      <td>146.034</td>\n",
       "      <td>4</td>\n",
       "      <td>0.261</td>\n",
       "    </tr>\n",
       "    <tr>\n",
       "      <th>3</th>\n",
       "      <td>Kodak Black</td>\n",
       "      <td>ZEZE (feat. Travis Scott &amp; Offset)</td>\n",
       "      <td>7l3E7lcozEodtVsSTCkcaA</td>\n",
       "      <td>95</td>\n",
       "      <td>0.07100</td>\n",
       "      <td>0.826</td>\n",
       "      <td>225199</td>\n",
       "      <td>0.615</td>\n",
       "      <td>0.00000</td>\n",
       "      <td>8</td>\n",
       "      <td>0.0965</td>\n",
       "      <td>-7.979</td>\n",
       "      <td>0</td>\n",
       "      <td>0.2190</td>\n",
       "      <td>98.056</td>\n",
       "      <td>4</td>\n",
       "      <td>0.543</td>\n",
       "    </tr>\n",
       "    <tr>\n",
       "      <th>4</th>\n",
       "      <td>Juice WRLD</td>\n",
       "      <td>Lucid Dreams</td>\n",
       "      <td>0s3nnoMeVWz3989MkNQiRf</td>\n",
       "      <td>94</td>\n",
       "      <td>0.34900</td>\n",
       "      <td>0.511</td>\n",
       "      <td>239836</td>\n",
       "      <td>0.566</td>\n",
       "      <td>0.00000</td>\n",
       "      <td>6</td>\n",
       "      <td>0.3400</td>\n",
       "      <td>-7.230</td>\n",
       "      <td>0</td>\n",
       "      <td>0.2000</td>\n",
       "      <td>83.903</td>\n",
       "      <td>4</td>\n",
       "      <td>0.218</td>\n",
       "    </tr>\n",
       "  </tbody>\n",
       "</table>\n",
       "</div>"
      ],
      "text/plain": [
       "     artist_name                          track_name                track_id  \\\n",
       "0   Travis Scott                          SICKO MODE  2xLMifQCjDGFmkHkpNLD9h   \n",
       "1  Ariana Grande                       thank u, next  2rPE9A1vEgShuZxxzR2tZH   \n",
       "2      Sheck Wes                            Mo Bamba  1xzBco0xcoJEDXktl7Jxrr   \n",
       "3    Kodak Black  ZEZE (feat. Travis Scott & Offset)  7l3E7lcozEodtVsSTCkcaA   \n",
       "4     Juice WRLD                        Lucid Dreams  0s3nnoMeVWz3989MkNQiRf   \n",
       "\n",
       "   popularity  acousticness  danceability  duration_ms  energy  \\\n",
       "0          96       0.00513         0.834       312820   0.730   \n",
       "1          98       0.28000         0.724       207333   0.647   \n",
       "2          93       0.19400         0.729       183907   0.625   \n",
       "3          95       0.07100         0.826       225199   0.615   \n",
       "4          94       0.34900         0.511       239836   0.566   \n",
       "\n",
       "   instrumentalness  key  liveness  loudness  mode  speechiness    tempo  \\\n",
       "0           0.00000    8    0.1240    -3.714     1       0.2220  155.008   \n",
       "1           0.00000    1    0.1020    -5.642     1       0.0658  106.960   \n",
       "2           0.00986    4    0.2480    -5.266     1       0.0315  146.034   \n",
       "3           0.00000    8    0.0965    -7.979     0       0.2190   98.056   \n",
       "4           0.00000    6    0.3400    -7.230     0       0.2000   83.903   \n",
       "\n",
       "   time_signature  valence  \n",
       "0               4    0.446  \n",
       "1               4    0.435  \n",
       "2               4    0.261  \n",
       "3               4    0.543  \n",
       "4               4    0.218  "
      ]
     },
     "execution_count": 16,
     "metadata": {},
     "output_type": "execute_result"
    }
   ],
   "source": [
    "# merge both dataframes\n",
    "# the 'inner' method will make sure that we only keep track IDs present in both datasets\n",
    "df = pd.merge(df_tracks,df_audio_features,on='track_id',how='inner')\n",
    "print(\"Shape of the dataset:\", df_audio_features.shape)\n",
    "df.head()"
   ]
  },
  {
   "cell_type": "code",
   "execution_count": 17,
   "metadata": {},
   "outputs": [
    {
     "name": "stdout",
     "output_type": "stream",
     "text": [
      "<class 'pandas.core.frame.DataFrame'>\n",
      "Int64Index: 6807 entries, 0 to 6806\n",
      "Data columns (total 17 columns):\n",
      "artist_name         6807 non-null object\n",
      "track_name          6807 non-null object\n",
      "track_id            6807 non-null object\n",
      "popularity          6807 non-null int64\n",
      "acousticness        6807 non-null float64\n",
      "danceability        6807 non-null float64\n",
      "duration_ms         6807 non-null int64\n",
      "energy              6807 non-null float64\n",
      "instrumentalness    6807 non-null float64\n",
      "key                 6807 non-null int64\n",
      "liveness            6807 non-null float64\n",
      "loudness            6807 non-null float64\n",
      "mode                6807 non-null int64\n",
      "speechiness         6807 non-null float64\n",
      "tempo               6807 non-null float64\n",
      "time_signature      6807 non-null int64\n",
      "valence             6807 non-null float64\n",
      "dtypes: float64(9), int64(5), object(3)\n",
      "memory usage: 957.2+ KB\n"
     ]
    }
   ],
   "source": [
    "df.info()"
   ]
  },
  {
   "cell_type": "code",
   "execution_count": 18,
   "metadata": {},
   "outputs": [
    {
     "data": {
      "text/html": [
       "<div>\n",
       "<style scoped>\n",
       "    .dataframe tbody tr th:only-of-type {\n",
       "        vertical-align: middle;\n",
       "    }\n",
       "\n",
       "    .dataframe tbody tr th {\n",
       "        vertical-align: top;\n",
       "    }\n",
       "\n",
       "    .dataframe thead th {\n",
       "        text-align: right;\n",
       "    }\n",
       "</style>\n",
       "<table border=\"1\" class=\"dataframe\">\n",
       "  <thead>\n",
       "    <tr style=\"text-align: right;\">\n",
       "      <th></th>\n",
       "      <th>artist_name</th>\n",
       "      <th>track_name</th>\n",
       "      <th>track_id</th>\n",
       "      <th>popularity</th>\n",
       "      <th>acousticness</th>\n",
       "      <th>danceability</th>\n",
       "      <th>duration_ms</th>\n",
       "      <th>energy</th>\n",
       "      <th>instrumentalness</th>\n",
       "      <th>key</th>\n",
       "      <th>liveness</th>\n",
       "      <th>loudness</th>\n",
       "      <th>mode</th>\n",
       "      <th>speechiness</th>\n",
       "      <th>tempo</th>\n",
       "      <th>time_signature</th>\n",
       "      <th>valence</th>\n",
       "    </tr>\n",
       "  </thead>\n",
       "  <tbody>\n",
       "  </tbody>\n",
       "</table>\n",
       "</div>"
      ],
      "text/plain": [
       "Empty DataFrame\n",
       "Columns: [artist_name, track_name, track_id, popularity, acousticness, danceability, duration_ms, energy, instrumentalness, key, liveness, loudness, mode, speechiness, tempo, time_signature, valence]\n",
       "Index: []"
      ]
     },
     "execution_count": 18,
     "metadata": {},
     "output_type": "execute_result"
    }
   ],
   "source": [
    "# Check for dulpicates\n",
    "df[df.duplicated(subset=['artist_name','track_name'],keep=False)]"
   ]
  },
  {
   "cell_type": "markdown",
   "metadata": {},
   "source": [
    "Everything seems to be fine so I will save the dataframe as a .csv file."
   ]
  },
  {
   "cell_type": "code",
   "execution_count": 19,
   "metadata": {},
   "outputs": [],
   "source": [
    "df.to_csv('SpotifyAudioFeatures11152018.csv')"
   ]
  }
 ],
 "metadata": {
  "kernelspec": {
   "display_name": "Python 3",
   "language": "python",
   "name": "python3"
  },
  "language_info": {
   "codemirror_mode": {
    "name": "ipython",
    "version": 3
   },
   "file_extension": ".py",
   "mimetype": "text/x-python",
   "name": "python",
   "nbconvert_exporter": "python",
   "pygments_lexer": "ipython3",
   "version": "3.6.5"
  }
 },
 "nbformat": 4,
 "nbformat_minor": 2
}
